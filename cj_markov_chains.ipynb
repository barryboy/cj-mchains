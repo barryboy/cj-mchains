{
 "cells": [
  {
   "cell_type": "code",
   "execution_count": 1,
   "metadata": {},
   "outputs": [],
   "source": [
    "%load_ext google.cloud.bigquery\n",
    "\n",
    "import numpy as np\n",
    "import pandas as pd"
   ]
  },
  {
   "cell_type": "markdown",
   "metadata": {},
   "source": [
    "#### Fake dataset 1 - prosty graf"
   ]
  },
  {
   "cell_type": "code",
   "execution_count": 2,
   "metadata": {},
   "outputs": [
    {
     "name": "stdout",
     "output_type": "stream",
     "text": [
      "  prev    next  prob\n",
      "0    A       B   0.3\n",
      "1    A       C   0.7\n",
      "2    B       D   0.2\n",
      "3    B       E   0.8\n",
      "4    C       E   1.0\n",
      "5    D  N_CONV   1.0\n",
      "6    E  N_CONV   0.1\n",
      "7    E    CONV   0.9\n"
     ]
    }
   ],
   "source": [
    "fake1 = pd.DataFrame([\n",
    "     {'prev':'A', 'next':'B', 'prob':0.3}\n",
    "    ,{'prev':'A', 'next':'C', 'prob':0.7}\n",
    "    ,{'prev':'B', 'next':'D', 'prob':0.2}\n",
    "    ,{'prev':'B', 'next':'E', 'prob':0.8}\n",
    "    ,{'prev':'C', 'next':'E', 'prob':1.0}\n",
    "    ,{'prev':'D', 'next':'N_CONV', 'prob':1.0}\n",
    "    ,{'prev':'E', 'next':'N_CONV', 'prob':0.1}\n",
    "    ,{'prev':'E', 'next':'CONV', 'prob':0.9}\n",
    "])\n",
    "\n",
    "print(fake1)"
   ]
  },
  {
   "cell_type": "code",
   "execution_count": 64,
   "metadata": {},
   "outputs": [
    {
     "name": "stdout",
     "output_type": "stream",
     "text": [
      "1\n",
      "Crawler 1 takes next step\n",
      "Crawler 1 takes next step\n",
      "Crawler 1 takes next step\n",
      "Crawler 1 finished\n",
      "Crawler 1 takes next step\n",
      "2\n",
      "Created new crawler 2\n",
      "Crawler 2 takes next step\n",
      "Crawler 2 finished\n",
      "Crawler 2 takes next step\n",
      "3\n",
      "Created new crawler 3\n",
      "Crawler 3 finished\n",
      "Crawler 1 takes next step\n",
      "4\n",
      "Created new crawler 4\n",
      "Crawler 4 takes next step\n",
      "Crawler 4 takes next step\n",
      "Crawler 4 finished\n",
      "Crawler 4 takes next step\n",
      "5\n",
      "Created new crawler 5\n",
      "Crawler 5 finished\n"
     ]
    }
   ],
   "source": [
    "class Crawler:\n",
    "    _index = 0\n",
    "    _pairs = pd.DataFrame()\n",
    "    _paths = []\n",
    "    \n",
    "    def __init__(self, pairs = None, prev_history=['A']):\n",
    "        Crawler._index += 1\n",
    "        print(Crawler._index)\n",
    "        self.index = Crawler._index\n",
    "        if pairs is not None:\n",
    "            Crawler._pairs = pairs\n",
    "        self.history = prev_history\n",
    "    \n",
    "    def step(self):\n",
    "        current = self.history[-1]\n",
    "        exits = Crawler._pairs[Crawler._pairs['prev'] == current]['next']\n",
    "        if exits.empty:\n",
    "            Crawler._paths.append(self.history)\n",
    "            print('Crawler {} finished'.format(self.index))\n",
    "        else:\n",
    "            count = 0\n",
    "            for e in exits:\n",
    "                print('Crawler {} takes next step'.format(self.index))\n",
    "                if count == 0:\n",
    "                    self.history.append(e)\n",
    "                    self.step()\n",
    "                else:\n",
    "                    new = Crawler(prev_history = self.history)\n",
    "                    print('Created new crawler {}'.format(new.index))\n",
    "                    new.history.append(e)\n",
    "                    new.step()\n",
    "                count += 1\n",
    "        \n",
    " \n",
    "c1 = Crawler(pairs = fake1)\n",
    "c1.step()\n"
   ]
  },
  {
   "cell_type": "code",
   "execution_count": 52,
   "metadata": {},
   "outputs": [
    {
     "data": {
      "text/plain": [
       "[['A', 'B', 'D', 'N_CONV', 'E', 'N_CONV', 'CONV', 'C', 'E', 'N_CONV', 'CONV'],\n",
       " ['A', 'B', 'D', 'N_CONV', 'E', 'N_CONV', 'CONV', 'C', 'E', 'N_CONV', 'CONV'],\n",
       " ['A', 'B', 'D', 'N_CONV', 'E', 'N_CONV', 'CONV', 'C', 'E', 'N_CONV', 'CONV'],\n",
       " ['A', 'B', 'D', 'N_CONV', 'E', 'N_CONV', 'CONV', 'C', 'E', 'N_CONV', 'CONV'],\n",
       " ['A', 'B', 'D', 'N_CONV', 'E', 'N_CONV', 'CONV', 'C', 'E', 'N_CONV', 'CONV']]"
      ]
     },
     "execution_count": 52,
     "metadata": {},
     "output_type": "execute_result"
    }
   ],
   "source": [
    "Crawler._paths"
   ]
  },
  {
   "cell_type": "code",
   "execution_count": null,
   "metadata": {},
   "outputs": [],
   "source": []
  }
 ],
 "metadata": {
  "kernelspec": {
   "display_name": "Python 3",
   "language": "python",
   "name": "python3"
  },
  "language_info": {
   "codemirror_mode": {
    "name": "ipython",
    "version": 3
   },
   "file_extension": ".py",
   "mimetype": "text/x-python",
   "name": "python",
   "nbconvert_exporter": "python",
   "pygments_lexer": "ipython3",
   "version": "3.7.4"
  }
 },
 "nbformat": 4,
 "nbformat_minor": 4
}
