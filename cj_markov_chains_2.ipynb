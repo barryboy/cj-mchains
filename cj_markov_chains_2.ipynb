{
 "cells": [
  {
   "cell_type": "code",
   "execution_count": 76,
   "metadata": {},
   "outputs": [],
   "source": [
    "%load_ext google.cloud.bigquery\n",
    "import numpy as np\n",
    "import pandas as pd"
   ]
  },
  {
   "cell_type": "code",
   "execution_count": 88,
   "metadata": {},
   "outputs": [],
   "source": [
    "%%bigquery df\n",
    "SELECT prev_cluster prev, cluster next, N / SUM(N) OVER(PARTITION BY prev_cluster) prob\n",
    "FROM `mcw-play-217608.DECEMBER_2019_CLEAN.12_MARKOV_PAIRS`\n",
    "WHERE UPPER(prev_cluster) NOT LIKE \"%WEBSITE%\"\n",
    "AND UPPER(cluster) NOT LIKE \"%WEBSITE%\"\n",
    "#AND N > 1000\n",
    "AND conversion_type IN ('non_conv', 'ret_off')\n",
    "AND prev_cluster != cluster"
   ]
  },
  {
   "cell_type": "code",
   "execution_count": 81,
   "metadata": {},
   "outputs": [
    {
     "data": {
      "text/html": [
       "<div>\n",
       "<style scoped>\n",
       "    .dataframe tbody tr th:only-of-type {\n",
       "        vertical-align: middle;\n",
       "    }\n",
       "\n",
       "    .dataframe tbody tr th {\n",
       "        vertical-align: top;\n",
       "    }\n",
       "\n",
       "    .dataframe thead th {\n",
       "        text-align: right;\n",
       "    }\n",
       "</style>\n",
       "<table border=\"1\" class=\"dataframe\">\n",
       "  <thead>\n",
       "    <tr style=\"text-align: right;\">\n",
       "      <th></th>\n",
       "      <th>prev</th>\n",
       "      <th>next</th>\n",
       "      <th>prob</th>\n",
       "    </tr>\n",
       "  </thead>\n",
       "  <tbody>\n",
       "    <tr>\n",
       "      <th>0</th>\n",
       "      <td>Awareness_click</td>\n",
       "      <td>Consideration_click</td>\n",
       "      <td>0.077232</td>\n",
       "    </tr>\n",
       "    <tr>\n",
       "      <th>1</th>\n",
       "      <td>Awareness_click</td>\n",
       "      <td>Purchase_click</td>\n",
       "      <td>0.015310</td>\n",
       "    </tr>\n",
       "    <tr>\n",
       "      <th>2</th>\n",
       "      <td>Awareness_click</td>\n",
       "      <td>Purchase_impression</td>\n",
       "      <td>0.077047</td>\n",
       "    </tr>\n",
       "    <tr>\n",
       "      <th>3</th>\n",
       "      <td>Awareness_click</td>\n",
       "      <td>Consideration_impression</td>\n",
       "      <td>0.574541</td>\n",
       "    </tr>\n",
       "    <tr>\n",
       "      <th>4</th>\n",
       "      <td>Awareness_click</td>\n",
       "      <td>SEO</td>\n",
       "      <td>0.010284</td>\n",
       "    </tr>\n",
       "  </tbody>\n",
       "</table>\n",
       "</div>"
      ],
      "text/plain": [
       "              prev                      next      prob\n",
       "0  Awareness_click       Consideration_click  0.077232\n",
       "1  Awareness_click            Purchase_click  0.015310\n",
       "2  Awareness_click       Purchase_impression  0.077047\n",
       "3  Awareness_click  Consideration_impression  0.574541\n",
       "4  Awareness_click                       SEO  0.010284"
      ]
     },
     "execution_count": 81,
     "metadata": {},
     "output_type": "execute_result"
    }
   ],
   "source": [
    "df.head()"
   ]
  },
  {
   "cell_type": "code",
   "execution_count": 20,
   "metadata": {},
   "outputs": [
    {
     "name": "stdout",
     "output_type": "stream",
     "text": [
      "    prev    next  prob\n",
      "0  START       A   0.3\n",
      "1  START       B   0.7\n",
      "2      A       C   0.2\n",
      "3      A       D   0.8\n",
      "4      B       D   1.0\n",
      "5      D       C   0.2\n",
      "6      C       A   0.3\n",
      "7      C  N_CONV   0.7\n",
      "8      D  N_CONV   0.1\n",
      "9      D    CONV   0.7\n"
     ]
    }
   ],
   "source": [
    "df = pd.DataFrame([\n",
    "     {'prev':'START', 'next':'A', 'prob':0.3}\n",
    "    ,{'prev':'START', 'next':'B', 'prob':0.7}\n",
    "    ,{'prev':'A', 'next':'C', 'prob':0.2}\n",
    "    ,{'prev':'A', 'next':'D', 'prob':0.8}\n",
    "    ,{'prev':'B', 'next':'D', 'prob':1.0}\n",
    "    ,{'prev':'D', 'next':'C', 'prob':0.2}\n",
    "    ,{'prev':'C', 'next':'A', 'prob':0.3}\n",
    "    ,{'prev':'C', 'next':'N_CONV', 'prob':0.7}\n",
    "    ,{'prev':'D', 'next':'N_CONV', 'prob':0.1}\n",
    "    ,{'prev':'D', 'next':'CONV', 'prob':0.7}\n",
    "])\n",
    "\n",
    "print(df)"
   ]
  },
  {
   "cell_type": "code",
   "execution_count": 89,
   "metadata": {},
   "outputs": [
    {
     "data": {
      "text/plain": [
       "array([[0, 0, 0, 0, 0, 0, 0, 0, 0, 0, 0, 0, 0],\n",
       "       [1, 0, 0, 1, 1, 1, 1, 0, 1, 1, 1, 1, 0],\n",
       "       [0, 1, 0, 0, 0, 0, 0, 0, 0, 0, 0, 0, 0],\n",
       "       [1, 1, 0, 0, 1, 1, 1, 0, 1, 1, 1, 1, 0],\n",
       "       [1, 1, 0, 1, 0, 1, 1, 0, 1, 1, 1, 1, 0],\n",
       "       [1, 1, 0, 1, 1, 0, 1, 0, 1, 1, 1, 1, 0],\n",
       "       [1, 1, 0, 1, 1, 1, 0, 0, 1, 1, 1, 1, 0],\n",
       "       [1, 1, 1, 1, 1, 1, 1, 0, 1, 1, 1, 1, 1],\n",
       "       [1, 1, 0, 1, 1, 1, 1, 0, 0, 1, 1, 1, 0],\n",
       "       [1, 1, 0, 1, 1, 1, 1, 0, 1, 0, 1, 1, 0],\n",
       "       [1, 1, 0, 1, 1, 1, 1, 0, 1, 1, 0, 1, 0],\n",
       "       [1, 1, 0, 1, 1, 1, 1, 0, 1, 1, 0, 0, 0],\n",
       "       [0, 1, 0, 0, 0, 0, 0, 0, 0, 0, 0, 0, 0]])"
      ]
     },
     "execution_count": 89,
     "metadata": {},
     "output_type": "execute_result"
    }
   ],
   "source": [
    "def make_nodes_dict(graph):\n",
    "    prev_set = set(graph['prev'].to_list())\n",
    "    next_set = set(graph['next'].to_list())\n",
    "    nodes = list(prev_set.union(next_set))\n",
    "    nodes_dict = {}\n",
    "    nodes_dict_rev = {}\n",
    "    counter = 0\n",
    "    for n in nodes:\n",
    "        nodes_dict[n] = counter\n",
    "        nodes_dict_rev[counter] = n\n",
    "        counter += 1\n",
    "    return(nodes_dict, nodes_dict_rev)\n",
    "\n",
    "nodes_dict, nodes_dict_rev = make_nodes_dict(df)\n",
    "\n",
    "df_numbers = df.replace({'prev': nodes_dict}).replace({'next': nodes_dict})\n",
    "nnodes = max(df_numbers['prev'].max(), df_numbers['next'].max()) + 1\n",
    "\n",
    "adj_matrix = np.zeros((nnodes, nnodes), dtype=int)\n",
    "for i in range(nnodes):\n",
    "    for j in range(nnodes):\n",
    "        if df_numbers.loc[ (df_numbers['prev'] == i) & (df_numbers['next']==j), 'prob'].any() > 0:\n",
    "            adj_matrix[i,j] = 1\n",
    "        \n",
    "adj_matrix"
   ]
  },
  {
   "cell_type": "code",
   "execution_count": 90,
   "metadata": {},
   "outputs": [
    {
     "data": {
      "text/plain": [
       "{'CONV': 0,\n",
       " 'Purchase_click': 1,\n",
       " 'Marketplace_impression': 2,\n",
       " 'Consideration_click': 3,\n",
       " 'Awareness_click': 4,\n",
       " 'Consideration_impression': 5,\n",
       " 'Awareness_impression': 6,\n",
       " 'START': 7,\n",
       " 'Purchase_impression': 8,\n",
       " 'SEO': 9,\n",
       " 'SEO_click': 10,\n",
       " 'MediaWlasne_click': 11,\n",
       " 'MediaWlasne_impression': 12}"
      ]
     },
     "execution_count": 90,
     "metadata": {},
     "output_type": "execute_result"
    }
   ],
   "source": [
    "nodes_dict"
   ]
  },
  {
   "cell_type": "code",
   "execution_count": 91,
   "metadata": {},
   "outputs": [
    {
     "data": {
      "text/plain": [
       "109601"
      ]
     },
     "execution_count": 91,
     "metadata": {},
     "output_type": "execute_result"
    }
   ],
   "source": [
    "paths = [[10]]\n",
    "\n",
    "def step(idx):\n",
    "    path = paths[idx].copy()\n",
    "    node = path[-1]\n",
    "    #print('jestem ścieżką {} i jestem w {}'.format(idx, nodes_dict_rev[node]))\n",
    "    exits = adj_matrix[node]\n",
    "    e_count = 0\n",
    "    for e in range(nnodes):\n",
    "        if (exits[e] > 0) & (e not in paths[idx]):\n",
    "            e_count += 1\n",
    "            if (e_count == 1):\n",
    "                paths[idx].append(e)\n",
    "                step(idx)\n",
    "            else:\n",
    "                paths.append(path.copy())\n",
    "                paths[-1].append(e)\n",
    "                step(len(paths) - 1)\n",
    "    \n",
    "step(0)\n",
    "len(paths)\n",
    "#for p in paths:\n",
    "#    print([nodes_dict_rev[step] for step in p])"
   ]
  },
  {
   "cell_type": "code",
   "execution_count": null,
   "metadata": {},
   "outputs": [],
   "source": []
  }
 ],
 "metadata": {
  "kernelspec": {
   "display_name": "Python 3",
   "language": "python",
   "name": "python3"
  },
  "language_info": {
   "codemirror_mode": {
    "name": "ipython",
    "version": 3
   },
   "file_extension": ".py",
   "mimetype": "text/x-python",
   "name": "python",
   "nbconvert_exporter": "python",
   "pygments_lexer": "ipython3",
   "version": "3.7.4"
  }
 },
 "nbformat": 4,
 "nbformat_minor": 4
}
